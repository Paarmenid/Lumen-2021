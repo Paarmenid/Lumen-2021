{
 "cells": [
  {
   "cell_type": "markdown",
   "metadata": {},
   "source": [
    "# Import"
   ]
  },
  {
   "cell_type": "code",
   "execution_count": null,
   "metadata": {},
   "outputs": [],
   "source": [
    "import pandas as pd\n",
    "import seaborn as sns\n",
    "\n",
    "import numpy as np\n",
    "import matplotlib.pyplot as plt\n",
    "\n",
    "import pickle\n",
    "#from google.colab import drive\n",
    "\n",
    "#drive.mount(\"/content/gdrive\")#, force_remount=True)\n",
    "\n",
    "\n",
    "pd.set_option('display.max_columns', None)\n",
    "\n",
    "pd.set_option('mode.chained_assignment', None)\n",
    "\n",
    "#ovo je za velicinu slika\n",
    "sns.set(rc={'figure.figsize':(20,10)})\n",
    "\n",
    "#import warnings\n",
    "#warnings.filterwarnings('ignore')"
   ]
  },
  {
   "cell_type": "code",
   "execution_count": null,
   "metadata": {},
   "outputs": [],
   "source": [
    "cd \"C:\\Users\\Ivan Emanuel Pavlov\\OneDrive - Prirodoslovno-matematički fakultet\\Github\\LUMEN2021\"\n"
   ]
  },
  {
   "cell_type": "code",
   "execution_count": null,
   "metadata": {},
   "outputs": [],
   "source": [
    "data=pd.read_csv(r\"LUMEN_DS_21.csv\",sep=\",\")\n"
   ]
  },
  {
   "cell_type": "markdown",
   "metadata": {},
   "source": [
    "# Data cleaning"
   ]
  },
  {
   "cell_type": "markdown",
   "metadata": {},
   "source": [
    "## Dates"
   ]
  },
  {
   "cell_type": "code",
   "execution_count": null,
   "metadata": {},
   "outputs": [],
   "source": [
    "#def days(x):\n",
    "    #return x.days\n",
    "\n",
    "def months(x):\n",
    "    return np.round(x.days/30)\n",
    "\n",
    "#def years(x):\n",
    " #   return x.years\n",
    "\n",
    "date_names=['Customer First Invoice Date','Price last modified date in the ERP',\n",
    "           'Invoice Date', 'Order Date','Born on date']\n",
    "#month_names=[]\n",
    "\n",
    "\n",
    "zero_time=pd.to_datetime('2018-01-01',format='%Y-%m-%d')\n",
    "#zero_time=zero_time.month\n",
    "\n",
    "for i in date_names:\n",
    "    data[i]=pd.to_datetime(data[i],format='%Y-%m-%d', errors='coerce') \n",
    "    data[i+' Months']= (data[i]-zero_time).apply(months)\n",
    "    \n",
    "\n",
    "data[\"Invoice Date Months\"]=data[\"Invoice Date Months\"]+1\n",
    "\n",
    "data[\"Invoice Date Months u godini\"]=(data[\"Invoice Date Months\"]%12+1)\n",
    "\n",
    "data[\"Ordered Date Months u godini\"]=(data[\"Order Date Months\"]%12+1)"
   ]
  },
  {
   "cell_type": "markdown",
   "metadata": {},
   "source": [
    "## Sale channel grouping drop"
   ]
  },
  {
   "cell_type": "code",
   "execution_count": null,
   "metadata": {},
   "outputs": [],
   "source": [
    "data=data.drop(['Sales Channel - Internal', 'Sales Channel - External','Sales Channel - Grouping'],axis=1)\n",
    "\n",
    "data=data.drop(['Order #', 'Order Line #'],axis=1)\n",
    "\n",
    "data=data.drop(['Material cost of part','Labor cost of part', 'Overhead cost of part'],axis=1)"
   ]
  },
  {
   "cell_type": "markdown",
   "metadata": {},
   "source": [
    "## Price outliers drop"
   ]
  },
  {
   "cell_type": "code",
   "execution_count": null,
   "metadata": {
    "tags": []
   },
   "outputs": [],
   "source": [
    "#dropanje cjenovnih outliera\n",
    "data=data.drop([594755,89287,826942,1154597],axis=0)\n"
   ]
  },
  {
   "cell_type": "markdown",
   "metadata": {},
   "source": [
    "## GM range reduction\n"
   ]
  },
  {
   "cell_type": "code",
   "execution_count": null,
   "metadata": {},
   "outputs": [],
   "source": [
    "data=data[(data[\"GM%\"]<1)|(data[\"GM%\"].isna())]\n",
    "data=data[(data[\"GM%\"]>0.1)|(data[\"GM%\"].isna())]\n",
    "\n",
    "\n"
   ]
  },
  {
   "cell_type": "markdown",
   "metadata": {},
   "source": [
    "# Encoding"
   ]
  },
  {
   "cell_type": "code",
   "execution_count": null,
   "metadata": {},
   "outputs": [],
   "source": [
    "from sklearn import preprocessing\n",
    "\n",
    "le = preprocessing.LabelEncoder()\n",
    "\n"
   ]
  },
  {
   "cell_type": "code",
   "execution_count": null,
   "metadata": {},
   "outputs": [],
   "source": [
    "df2=data\n",
    "\n",
    "df2=df2.dropna(how=\"any\")\n",
    "\n",
    "\n",
    "df2[\"Log Invoiced qty (shipped)\"]=df2[\"Invoiced qty (shipped)\"].apply(np.log10).replace([np.inf, -np.inf], np.nan)\n",
    "df2[\"Log Ordered qty\"]=df2[\"Ordered qty\"].apply(np.log10).replace([np.inf, -np.inf], np.nan)\n",
    "df2[\"Log Cost of part\"]=df2[\"Cost of part\"].apply(np.log10).replace([np.inf, -np.inf], np.nan)\n",
    "\n",
    "\n",
    "#df2[\"Log Material of cost of part\"]=df2[\"Material cost of part\"].apply(np.log10).replace([np.inf, -np.inf], np.nan)\n",
    "#df2[\"Log Labor cost of part\"]=df2[\"Labor cost of part\"].apply(np.log10).replace([np.inf, -np.inf], np.nan)\n",
    "#df2[\"Log Overhead cost of part\"]=df2[\"Overhead cost of part\"].apply(np.log10).replace([np.inf, -np.inf], np.nan)\n",
    "\n",
    "\n",
    "\n",
    "\n",
    "\n",
    "#transform po varijablama\n",
    "\n",
    "df2[\"Manufacturing Region\"] = le.fit_transform(df2[\"Manufacturing Region\"])\n",
    "df2[\"Manufacturing Location Code\"] = le.fit_transform(df2[\"Manufacturing Location Code\"])\n",
    "df2[\"Intercompany\"] = le.fit_transform(df2[\"Intercompany\"])\n",
    "df2[\"Customer industry\"] = le.fit_transform(df2[\"Customer industry\"])\n",
    "df2[\"Customer Region\"] = le.fit_transform(df2[\"Customer Region\"])\n",
    "df2[\"Top Customer Group\"] = le.fit_transform(df2[\"Top Customer Group\"])\n",
    "df2[\"Product family\"] = le.fit_transform(df2[\"Product family\"])\n",
    "df2[\"Top Customer Group\"] = le.fit_transform(df2[\"Top Customer Group\"])\n",
    "df2[\"Product group\"] = le.fit_transform(df2[\"Product group\"])\n",
    "df2[\"Make vs Buy\"] = le.fit_transform(df2[\"Make vs Buy\"])\n",
    "#df2[\"Sales Channel - Internal\"] = le.fit_transform(df2[\"Sales Channel - Internal\"])\n",
    "\n",
    "df2=df2.dropna(how=\"any\")"
   ]
  },
  {
   "cell_type": "markdown",
   "metadata": {},
   "source": [
    "# Chaid tree"
   ]
  },
  {
   "cell_type": "code",
   "execution_count": null,
   "metadata": {},
   "outputs": [],
   "source": [
    "#Pomoću chaid stabla segmentiramo dealove"
   ]
  },
  {
   "cell_type": "code",
   "execution_count": null,
   "metadata": {},
   "outputs": [],
   "source": [
    "\n",
    "def getSplits(ddf, Rules):\n",
    "  df_split = []\n",
    "  for k in Rules:\n",
    "    v = True\n",
    "    for rules in k['rules']:\n",
    "      vv = False\n",
    "      for data in rules['data']:\n",
    "        vv |=ddf[rules['variable']]== data\n",
    "      v &= (vv)\n",
    "    #print(v)\n",
    "    df_split.append(v)\n",
    "  return df_split\n",
    "\n",
    "\n",
    "\n",
    "independent_variable_columns = [  'Customer Region',\n",
    "                                'Customer industry', 'Top Customer Group','Manufacturing Location Code', \n",
    "                                'Make vs Buy', 'Product group',\"Order Date Months\"]\n",
    "dep_variable = 'GM%'\n",
    "from CHAID import Tree\n",
    "treeCustomer = Tree.from_pandas_df(df2, dict(zip(independent_variable_columns, ['nominal'] * 6)), dep_variable, dep_variable_type='continuous', max_depth=8, min_parent_node_size=500, min_child_node_size = 100)\n",
    "\n",
    "\n",
    "\n",
    "#treeCustomer.render(path='Tree', view=True)\n",
    "CustomerRules = treeCustomer.classification_rules()\n",
    "\n",
    "\n",
    "\n",
    "df_split = getSplits(df2, CustomerRules)\n",
    "#for k in df_split:\n",
    "#  plt.figure()\n",
    "#  df2.loc[k]['GM%'].hist()"
   ]
  },
  {
   "cell_type": "markdown",
   "metadata": {},
   "source": [
    "# Kmeans\n"
   ]
  },
  {
   "cell_type": "code",
   "execution_count": null,
   "metadata": {},
   "outputs": [],
   "source": [
    "df3=df2\n",
    "\n",
    "df3=df3.dropna(how=\"any\")"
   ]
  },
  {
   "cell_type": "code",
   "execution_count": null,
   "metadata": {},
   "outputs": [],
   "source": [
    "from sklearn.cluster import KMeans\n",
    "from kneed import KneeLocator, DataGenerator\n"
   ]
  },
  {
   "cell_type": "code",
   "execution_count": null,
   "metadata": {},
   "outputs": [],
   "source": [
    "def inercije():\n",
    "    inertias=[]\n",
    "    K = [i for i in range(1,15)]\n",
    "    for num_clusters in K:\n",
    "        kmeans = KMeans(n_clusters=num_clusters, init = \"k-means++\", n_init = 3, verbose=0, n_jobs=-1)\n",
    "        kmeans.fit_predict(a[[\"Log Ordered qty\",\"Log Cost of part\"]]) \n",
    "        inertias.append(kmeans.inertia_)\n",
    "    kneedle = KneeLocator(K, inertias, S=1.0, curve='convex', direction='decreasing')\n",
    "\n",
    "    return kneedle.elbow"
   ]
  },
  {
   "cell_type": "code",
   "execution_count": null,
   "metadata": {
    "tags": []
   },
   "outputs": [],
   "source": [
    "\n",
    "def segmentacija_po_kontinuiranim_varijablama():\n",
    "    ukupni_len_prijasnih_clustera=0\n",
    "    for j in range(len(df_split)):\n",
    "       \n",
    "        a=df3.loc[df_split[j]]\n",
    "    \n",
    "        elbow=inercije() \n",
    "    \n",
    "        kmeans = KMeans(n_clusters=elbow, random_state=j,init = \"k-means++\", n_init = 10, verbose=0, n_jobs=-1).fit(a[[\"Log Ordered qty\",\"Log Cost of part\"]])\n",
    "\n",
    "        y_kmeans = kmeans.predict(a[[\"Log Ordered qty\",\"Log Cost of part\"]])\n",
    "    \n",
    "        df3.loc[df_split[j],\"clusters\"]=(y_kmeans+ukupni_len_prijasnih_clustera).astype(int)\n",
    " \n",
    "        ukupni_len_prijasnih_clustera=ukupni_len_prijasnih_clustera+elbow\n",
    "\n",
    "\n",
    "#zapisujemo clustere koji su premali za segmentaciju po kvantilima. Njih cemo reflasificifati stablom odlučivanja   \n",
    "premali=[]\n",
    "\n",
    "\n",
    "def dodjeljivanje_ocjena_i_margina():\n",
    "    for j in range(len(df3.clusters.unique())):   \n",
    "        #print(j)\n",
    "    \n",
    "        try:\n",
    "            \n",
    "            df3.loc[df3.clusters==j,\"kvantili\"]=pd.qcut(df3.loc[df3.clusters==j,\"GM%\"],q=5,labels=[str(pd.qcut(df3.loc[df3.clusters==j,\"GM%\"],q=5,precision=2).sort_values().unique()[i]) for i in range(5)])\n",
    "    \n",
    "            df3.loc[df3.clusters==j,\"ocjene\"]=pd.qcut(df3.loc[df3.clusters==j,\"GM%\"],q=5,labels=[\"F\",\"D\",\"C\",\"B\",\"A\"])       \n",
    "            #break   \n",
    "             \n",
    "        except:\n",
    "                premali.append(j)\n",
    "                j=j+1\n",
    "                #continue    \n",
    "\n",
    "            \n",
    "#odvajamo anomalne clustere\n",
    "\n",
    "anomalni_clusteri=df3[df3.clusters.isin(premali)]"
   ]
  },
  {
   "cell_type": "markdown",
   "metadata": {},
   "source": [
    "# Decision tree clasificatior"
   ]
  },
  {
   "cell_type": "code",
   "execution_count": null,
   "metadata": {},
   "outputs": [],
   "source": [
    "import os\n",
    "os.environ[\"PATH\"] += os.pathsep + r\"C:\\Program Files\\Graphviz\\bin\"\n",
    "\n",
    "from sklearn.tree import DecisionTreeClassifier\n",
    "from sklearn import tree\n",
    "from sklearn.model_selection import train_test_split\n",
    "\n",
    "\n",
    "#definiramo klasifikacijsku preciznost\n",
    "\n",
    "\n",
    "def accuracy(X_test,y_test):\n",
    "    tocni=0\n",
    "    krivi=0\n",
    "    \n",
    "    pred=tree_clf.predict(X_test)\n",
    "    \n",
    "    lista=(pred-np.array(y_test))\n",
    "    for i in range(len(lista)):\n",
    "        if lista[i]==0:\n",
    "            tocni=tocni+1\n",
    "        else:\n",
    "            krivi=krivi+1\n",
    "    ukupno=krivi+tocni\n",
    "    acc=tocni/(ukupno)\n",
    "    return acc        \n",
    "\n",
    "\n",
    "#iz df3 dataseta izbacujemo zasada dealove iz anomalnih clustera čije ćemo nove clustere potom predictati s istreniranim klasifikatorom te ponovno umetnuti u df3 te će sada pripadati\n",
    "#neanomalnim clusterima \n",
    "\n",
    "\n",
    "\n",
    "X_train, X_test, y_train, y_test = train_test_split(df3.drop(anomalni_clusteri.index)[['Manufacturing Region', 'Manufacturing Location Code',\n",
    "       'Intercompany','Customer industry', 'Customer Region','Top Customer Group',\n",
    "       'Product family', 'Product group','Make vs Buy','Invoiced qty (shipped)', 'Ordered qty','# of unique products on a quote','Customer First Invoice Date Months',\n",
    "       'Price last modified date in the ERP Months', 'Invoice Date Months',\n",
    "       'Order Date Months', 'Born on date Months',\n",
    "       'Invoice Date Months u godini', 'Ordered Date Months u godini',\n",
    "       'Log Invoiced qty (shipped)', 'Log Ordered qty', 'Log Cost of part']], df3.drop(anomalni_clusteri.index).clusters, test_size=0.10, random_state=50,shuffle=True)\n",
    "\n",
    "X_train, X_val, y_train, y_val = train_test_split(X_train, y_train, test_size=0.10,random_state=80,shuffle=True) # 0.25 x 0.8 = 0.2\n",
    "\n",
    "tree_clf = DecisionTreeClassifier(max_depth=None) \n",
    "tree_clf.fit(X_train, y_train)\n",
    "\n",
    "\n",
    "print(\"preciznost klasifikatora=\",accuracy(X_test,y_test))\n",
    "\n",
    "#predictamo nove clustere za dealove iz \"anomalnih\" clustera\n",
    "\n",
    "y_anomalni=tree_clf.predict(anomalni_clusteri[['Manufacturing Region', 'Manufacturing Location Code',\n",
    "       'Intercompany','Customer industry', 'Customer Region','Top Customer Group',\n",
    "       'Product family', 'Product group','Make vs Buy','Invoiced qty (shipped)', 'Ordered qty','# of unique products on a quote','Customer First Invoice Date Months',\n",
    "       'Price last modified date in the ERP Months', 'Invoice Date Months',\n",
    "       'Order Date Months', 'Born on date Months',\n",
    "       'Invoice Date Months u godini', 'Ordered Date Months u godini',\n",
    "       'Log Invoiced qty (shipped)', 'Log Ordered qty', 'Log Cost of part']])\n",
    "\n",
    "\n",
    "#umećemo nove clustere na mjesta gdje su prije bili anomalni clusteri\n",
    "df3.loc[anomalni_clusteri.index,\"clusters\"]=y_anomalni\n",
    "\n",
    "\n",
    "#spremamo istrenirani klasifikator\n",
    "filename = 'stablo_odlucivanja_3.sav'\n",
    "pickle.dump(tree_clf, open(filename, 'wb'))\n",
    "\n",
    "#spremamo segmentirani dataset\n",
    "df3.to_csv(r'data_za_model.csv',index=False)"
   ]
  }
 ],
 "metadata": {
  "kernelspec": {
   "display_name": "Python 3",
   "language": "python",
   "name": "python3"
  },
  "language_info": {
   "codemirror_mode": {
    "name": "ipython",
    "version": 3
   },
   "file_extension": ".py",
   "mimetype": "text/x-python",
   "name": "python",
   "nbconvert_exporter": "python",
   "pygments_lexer": "ipython3",
   "version": "3.7.6"
  }
 },
 "nbformat": 4,
 "nbformat_minor": 4
}
