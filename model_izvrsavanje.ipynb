{
 "cells": [
  {
   "cell_type": "markdown",
   "metadata": {},
   "source": [
    "# Import"
   ]
  },
  {
   "cell_type": "code",
   "execution_count": 1,
   "metadata": {
    "tags": []
   },
   "outputs": [],
   "source": [
    "import pandas as pd\n",
    "import seaborn as sns\n",
    "\n",
    "import numpy as np\n",
    "import matplotlib.pyplot as plt\n",
    "import pickle\n",
    "from sklearn import preprocessing\n",
    "\n",
    "#from google.colab import drive\n",
    "\n",
    "#drive.mount(\"/content/gdrive\")#, force_remount=True)\n",
    "\n",
    "#da se prikazu svi stupci\n",
    "\n",
    "pd.set_option('display.max_columns', None)\n",
    "\n",
    "pd.set_option('mode.chained_assignment', None)\n",
    "\n",
    "#za velicinu slika\n",
    "sns.set(rc={'figure.figsize':(20,10)})\n",
    "\n",
    "#import warnings\n",
    "#warnings.filterwarnings('ignore')\n",
    "\n",
    "#path=r\"C:\\Users\\Ivan Emanuel Pavlov\\OneDrive - Prirodoslovno-matematički fakultet\\Github\\LUMEN2021\"\n",
    "\n",
    "#cd \"C:\\Users\\Ivan Emanuel Pavlov\\OneDrive - Prirodoslovno-matematički fakultet\\Github\\LUMEN2021\"\n",
    "\n",
    "\n",
    "\n",
    "\n",
    "\n",
    "#dolje se premještamo u direktorij u kojemu se nalazi notebook i dataset (druga osoba koja vrti kod mora postaviti svoj path naravno)"
   ]
  },
  {
   "cell_type": "code",
   "execution_count": 2,
   "metadata": {},
   "outputs": [
    {
     "name": "stdout",
     "output_type": "stream",
     "text": [
      "C:\\Users\\Ivan Emanuel Pavlov\\OneDrive - Prirodoslovno-matematički fakultet\\Github\\LUMEN2021\n"
     ]
    }
   ],
   "source": [
    "cd \"C:\\Users\\Ivan Emanuel Pavlov\\OneDrive - Prirodoslovno-matematički fakultet\\Github\\LUMEN2021\""
   ]
  },
  {
   "cell_type": "code",
   "execution_count": 32,
   "metadata": {
    "tags": []
   },
   "outputs": [
    {
     "name": "stderr",
     "output_type": "stream",
     "text": [
      "C:\\Users\\Ivan Emanuel Pavlov\\Anaconda3\\lib\\site-packages\\IPython\\core\\interactiveshell.py:3147: DtypeWarning: Columns (16,19) have mixed types.Specify dtype option on import or set low_memory=False.\n",
      "  interactivity=interactivity, compiler=compiler, result=result)\n"
     ]
    }
   ],
   "source": [
    "# we are importing dataframes\n",
    "\n",
    "df2=pd.read_csv(r\"LUMEN_DS.csv\",sep=\"|\",encoding=\"utf-16\")\n",
    "\n",
    "df_model=pd.read_csv(r\"data_za_model.csv\",sep=\",\")\n",
    "\n"
   ]
  },
  {
   "cell_type": "markdown",
   "metadata": {},
   "source": [
    "# Feature engineering"
   ]
  },
  {
   "cell_type": "code",
   "execution_count": 33,
   "metadata": {},
   "outputs": [],
   "source": [
    "df2=df2.drop(\"Sales Channel - Grouping\",axis=1)\n",
    "df2=df2.dropna(how=\"any\")\n",
    "\n",
    "\n",
    "#we are creating a new timelike variables ( the refererence point is 2018-01-01)\n",
    "\n",
    "def months(x):\n",
    "    return np.round(x.days/30)\n",
    "\n",
    "date_names=['Customer First Invoice Date','Price last modified date in the ERP',\n",
    "               'Invoice Date', 'Order Date','Born on date']\n",
    "\n",
    "zero_time=pd.to_datetime('2018-01-01',format='%Y-%m-%d')\n",
    "\n",
    "\n",
    "for i in date_names:\n",
    "        df2[i]=pd.to_datetime(df2[i],format='%Y-%m-%d', errors='coerce') \n",
    "        df2[i+' Months']= (df2[i]-zero_time).apply(months)\n",
    "\n",
    "        \n",
    "df2[\"Invoice Date Months\"]=df2[\"Invoice Date Months\"]+1\n",
    "df2[\"Invoice Date Months u godini\"]=(df2[\"Invoice Date Months\"]%12+1)\n",
    "df2[\"Ordered Date Months u godini\"]=(df2[\"Order Date Months\"]%12+1)\n",
    "\n",
    "\n",
    "# We are loging our variables\n",
    "\n",
    "df2[\"Log Invoiced qty (shipped)\"]=df2[\"Invoiced qty (shipped)\"].apply(np.log10).replace([np.inf, -np.inf], np.nan)\n",
    "df2[\"Log Ordered qty\"]=df2[\"Ordered qty\"].apply(np.log10).replace([np.inf, -np.inf], np.nan)\n",
    "df2[\"Log Cost of part\"]=df2[\"Cost of part\"].apply(np.log10).replace([np.inf, -np.inf], np.nan)\n",
    "\n",
    "\n",
    "df2[\"Log Material cost of part\"]=df2[\"Material cost of part\"].apply(np.log10).replace([np.inf, -np.inf], np.nan)\n",
    "df2[\"Log Labor cost of part\"]=df2[\"Labor cost of part\"].apply(np.log10).replace([np.inf, -np.inf], np.nan)\n",
    "df2[\"Log Overhead cost of part\"]=df2[\"Overhead cost of part\"].apply(np.log10).replace([np.inf, -np.inf], np.nan)\n",
    "\n",
    "#Label encoding\n",
    "\n",
    "le = preprocessing.LabelEncoder()\n",
    "    \n",
    "df2[\"Manufacturing Region\"] = le.fit_transform(df2[\"Manufacturing Region\"])\n",
    "df2[\"Manufacturing Location Code\"] = le.fit_transform(df2[\"Manufacturing Location Code\"])\n",
    "df2[\"Intercompany\"] = le.fit_transform(df2[\"Intercompany\"])\n",
    "df2[\"Customer industry\"] = le.fit_transform(df2[\"Customer industry\"])\n",
    "df2[\"Customer Region\"] = le.fit_transform(df2[\"Customer Region\"])\n",
    "df2[\"Top Customer Group\"] = le.fit_transform(df2[\"Top Customer Group\"])\n",
    "df2[\"Product family\"] = le.fit_transform(df2[\"Product family\"])\n",
    "df2[\"Top Customer Group\"] = le.fit_transform(df2[\"Top Customer Group\"])\n",
    "df2[\"Product group\"] = le.fit_transform(df2[\"Product group\"])\n",
    "df2[\"Make vs Buy\"] = le.fit_transform(df2[\"Make vs Buy\"])\n",
    "#df2[\"Sales Channel - Internal\"] = le.fit_transform(df2[\"Sales Channel - Internal\"])\n",
    "\n",
    "df2=df2.dropna(how=\"any\")\n"
   ]
  },
  {
   "cell_type": "code",
   "execution_count": 34,
   "metadata": {},
   "outputs": [],
   "source": [
    "\n",
    "filename = 'stablo_odlucivanja.sav'\n",
    "tree_clf = pickle.load(open(filename, 'rb'))"
   ]
  },
  {
   "cell_type": "markdown",
   "metadata": {},
   "source": [
    "# Deal scoring "
   ]
  },
  {
   "cell_type": "code",
   "execution_count": 69,
   "metadata": {},
   "outputs": [],
   "source": [
    "def intervali(segment):\n",
    "\n",
    "    bucket_quant=pd.qcut(df_model[df_model[\"clusters\"]==segment[0]][\"GM%\"],q=5).unique().sort_values()\n",
    "       \n",
    "    margine=[]\n",
    "    for i in range(5):\n",
    "        if i<4:\n",
    "            margine.append(bucket_quant[i].left)\n",
    "        else:\n",
    "            #bucket[i].left\n",
    "            margine.append(bucket_quant[i].left)\n",
    "    return margine"
   ]
  },
  {
   "cell_type": "code",
   "execution_count": 82,
   "metadata": {},
   "outputs": [],
   "source": [
    "def ocjene_i_cijene(df):\n",
    "\n",
    "    test_podaci=df[['Manufacturing Region', 'Manufacturing Location Code',\n",
    "           'Intercompany','Customer industry', 'Customer Region','Top Customer Group',\n",
    "           'Product family', 'Product group','Make vs Buy','Invoiced qty (shipped)', 'Ordered qty','# of unique products on a quote','Customer First Invoice Date Months',\n",
    "           'Price last modified date in the ERP Months', 'Invoice Date Months',\n",
    "           'Order Date Months', 'Born on date Months',\n",
    "           'Invoice Date Months u godini', 'Ordered Date Months u godini',\n",
    "           'Log Invoiced qty (shipped)', 'Log Ordered qty', 'Log Cost of part',\"Log Labor cost of part\",\"Log Overhead cost of part\",\n",
    "           \"Log Material cost of part\",\"Cost of part\"]]\n",
    "\n",
    "    cost_of_part=test_podaci[\"Cost of part\"]\n",
    "\n",
    "    test_podaci=test_podaci.drop([\"Cost of part\"],axis=1)\n",
    "\n",
    "    y_test_podaci=tree_clf.predict(test_podaci)\n",
    "\n",
    "    GM=intervali(y_test_podaci)\n",
    "\n",
    "    # GM%= (Price-Cost)/(Price)\n",
    "\n",
    "    #price=(cost)/(1-GM%)\n",
    "\n",
    "    prices=[]\n",
    "    for gm in GM:\n",
    "        prices.append((cost_of_part)/(1-gm))\n",
    "\n",
    "    ocjene=[\"F\",\"D\",\"C\",\"B\",\"A\"]\n",
    "\n",
    "    for i in range(5):\n",
    "        print (\"Donja granica ocjene\", ocjene[i] ,\"je cijena\",np.array(prices[i]))"
   ]
  },
  {
   "cell_type": "code",
   "execution_count": 84,
   "metadata": {},
   "outputs": [
    {
     "name": "stdout",
     "output_type": "stream",
     "text": [
      "Donja granica ocjene F je cijena [1.19089791]\n",
      "Donja granica ocjene D je cijena [1.41343066]\n",
      "Donja granica ocjene C je cijena [1.48725038]\n",
      "Donja granica ocjene B je cijena [1.75398551]\n",
      "Donja granica ocjene A je cijena [2.0732334]\n"
     ]
    }
   ],
   "source": [
    "#Here we are calculating our scores for some sample. \n",
    "# For the grading purposes df2.sample(1)  should be replaced with appropriate deal\n",
    "\n",
    "\n",
    "ocjene_i_cijene(df2.sample(1))"
   ]
  },
  {
   "cell_type": "markdown",
   "metadata": {},
   "source": [
    "# GM distribution for a particular deal segment"
   ]
  },
  {
   "cell_type": "code",
   "execution_count": 102,
   "metadata": {},
   "outputs": [],
   "source": [
    "def plot_GM_distribution(sample):\n",
    "    \n",
    "    a=sample[['Manufacturing Region', 'Manufacturing Location Code',\n",
    "           'Intercompany','Customer industry', 'Customer Region','Top Customer Group',\n",
    "           'Product family', 'Product group','Make vs Buy','Invoiced qty (shipped)', 'Ordered qty','# of unique products on a quote','Customer First Invoice Date Months',\n",
    "           'Price last modified date in the ERP Months', 'Invoice Date Months',\n",
    "           'Order Date Months', 'Born on date Months',\n",
    "           'Invoice Date Months u godini', 'Ordered Date Months u godini',\n",
    "           'Log Invoiced qty (shipped)', 'Log Ordered qty', 'Log Cost of part',\"Log Labor cost of part\",\"Log Overhead cost of part\",\n",
    "           \"Log Material cost of part\"]]\n",
    "    \n",
    "    segment=tree_clf.predict(a)\n",
    "    \n",
    "    df_model[df_model[\"clusters\"]==segment[0]][\"GM%\"].hist()\n",
    "    return "
   ]
  },
  {
   "cell_type": "code",
   "execution_count": 103,
   "metadata": {},
   "outputs": [
    {
     "data": {
      "image/png": "[encoded data removed]",
      "text/plain": [
       "<Figure size 1440x720 with 1 Axes>"
      ]
     },
     "metadata": {},
     "output_type": "display_data"
    }
   ],
   "source": [
    "plot_GM_distribution(df2.sample(2))"
   ]
  },
  {
   "cell_type": "code",
   "execution_count": null,
   "metadata": {},
   "outputs": [],
   "source": []
  },
  {
   "cell_type": "code",
   "execution_count": null,
   "metadata": {},
   "outputs": [],
   "source": []
  },
  {
   "cell_type": "code",
   "execution_count": 93,
   "metadata": {},
   "outputs": [
    {
     "data": {
      "text/plain": [
       "array([74.])"
      ]
     },
     "execution_count": 93,
     "metadata": {},
     "output_type": "execute_result"
    }
   ],
   "source": [
    "tree_clf.predict(a[['Manufacturing Region', 'Manufacturing Location Code',\n",
    "           'Intercompany','Customer industry', 'Customer Region','Top Customer Group',\n",
    "           'Product family', 'Product group','Make vs Buy','Invoiced qty (shipped)', 'Ordered qty','# of unique products on a quote','Customer First Invoice Date Months',\n",
    "           'Price last modified date in the ERP Months', 'Invoice Date Months',\n",
    "           'Order Date Months', 'Born on date Months',\n",
    "           'Invoice Date Months u godini', 'Ordered Date Months u godini',\n",
    "           'Log Invoiced qty (shipped)', 'Log Ordered qty', 'Log Cost of part',\"Log Labor cost of part\",\"Log Overhead cost of part\",\n",
    "           \"Log Material cost of part\"]])"
   ]
  },
  {
   "cell_type": "code",
   "execution_count": null,
   "metadata": {},
   "outputs": [],
   "source": []
  },
  {
   "cell_type": "markdown",
   "metadata": {},
   "source": [
    "# Opcionalno - vizualna reprezentacija stabla odlučivanja"
   ]
  },
  {
   "cell_type": "code",
   "execution_count": 106,
   "metadata": {},
   "outputs": [],
   "source": [
    "# ovdje korisnik upisuje gdje mu se nalazi direktorij u u kojemu stoji notebook\n",
    "\n",
    "path=\"C:\\\\Users\\\\Ivan Emanuel Pavlov\\\\OneDrive - Prirodoslovno-matematički fakultet\\\\Github\\\\LUMEN2021\\\\LUMEN2021\\\\\"\n",
    "\n",
    "#path= r\"C:\\Users\\Ivan Emanuel Pavlov\\OneDrive - Prirodoslovno-matematički fakultet\\Github\\LUMEN2021\\LUMEN2021\\\""
   ]
  },
  {
   "cell_type": "code",
   "execution_count": 107,
   "metadata": {},
   "outputs": [],
   "source": [
    "from sklearn.tree import export_graphviz \n"
   ]
  },
  {
   "cell_type": "code",
   "execution_count": 105,
   "metadata": {},
   "outputs": [],
   "source": []
  },
  {
   "cell_type": "code",
   "execution_count": 108,
   "metadata": {},
   "outputs": [],
   "source": [
    "f = open(path+\"stablo_odlucivanja_rezultat4.dot\", 'w')\n"
   ]
  },
  {
   "cell_type": "code",
   "execution_count": 109,
   "metadata": {},
   "outputs": [],
   "source": [
    "#f = open(path+\"stablo_odlucivanja_rezultat3.dot\", 'w')\n",
    "\n",
    "from sklearn.tree import export_graphviz \n",
    " \n",
    "export_graphviz( \n",
    "        tree_clf, \n",
    "        out_file=f, \n",
    "        feature_names=['Manufacturing Region', 'Manufacturing Location Code',\n",
    "       'Intercompany','Customer industry', 'Customer Region','Top Customer Group',\n",
    "       'Product family', 'Product group','Make vs Buy','Invoiced qty (shipped)', 'Ordered qty','# of unique products on a quote','Customer First Invoice Date Months',\n",
    "       'Price last modified date in the ERP Months', 'Invoice Date Months',\n",
    "       'Order Date Months', 'Born on date Months',\n",
    "       'Invoice Date Months u godini', 'Ordered Date Months u godini',\n",
    "       'Log Invoiced qty (shipped)', 'Log Ordered qty', 'Log Cost of part',\n",
    "       'Log Material of cost of part', 'Log Labor cost of part',\n",
    "       'Log Overhead cost of part'],\n",
    "        class_names= pd.Series(sorted(df_model.clusters.unique())).astype(str),\n",
    "        rounded=True, \n",
    "        filled=True, \n",
    "        max_depth=3,\n",
    "    )\n",
    "\n"
   ]
  },
  {
   "cell_type": "code",
   "execution_count": null,
   "metadata": {},
   "outputs": [],
   "source": []
  }
 ],
 "metadata": {
  "kernelspec": {
   "display_name": "Python 3",
   "language": "python",
   "name": "python3"
  },
  "language_info": {
   "codemirror_mode": {
    "name": "ipython",
    "version": 3
   },
   "file_extension": ".py",
   "mimetype": "text/x-python",
   "name": "python",
   "nbconvert_exporter": "python",
   "pygments_lexer": "ipython3",
   "version": "3.7.6"
  }
 },
 "nbformat": 4,
 "nbformat_minor": 4
}
